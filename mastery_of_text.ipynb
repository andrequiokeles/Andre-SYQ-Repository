{
 "cells": [
  {
   "cell_type": "code",
   "execution_count": null,
   "id": "cf8e07e3-bfa5-4089-bc3c-7d8ba8c6f166",
   "metadata": {},
   "outputs": [],
   "source": [
    "'''\n",
    "\n",
    "All of the following instructions are to be carried out in pure Python.\n",
    "You may not use any external programs like 'wc' or 'curl' for this task.\n",
    "\n",
    "You may use Python's built-in functions, but you may not use any library\n",
    "other than 'urllib.' \n",
    "\n",
    "'''"
   ]
  },
  {
   "cell_type": "code",
   "execution_count": 1,
   "id": "57df68c4-e490-4141-bc99-5f4d0d60b2c6",
   "metadata": {},
   "outputs": [
    {
     "name": "stdout",
     "output_type": "stream",
     "text": [
      "The data type of pg10 is <class 'str'>.\n"
     ]
    }
   ],
   "source": [
    "'''\n",
    "\n",
    "1. Find a way to save the text stored at \n",
    "\"https://www.gutenberg.org/cache/epub/10/pg10.txt\"\n",
    "into a Python variable called `pg10`.\n",
    "\n",
    "'''\n",
    "\n",
    "#importing urllib\n",
    "import urllib\n",
    "\n",
    "#opening the URL in python\n",
    "url = \"https://www.gutenberg.org/cache/epub/10/pg10.txt\"\n",
    "opened_url = urllib.request.urlopen(url)\n",
    "\n",
    "#converting the URL from bytes to string\n",
    "pg10 = opened_url.read().decode('utf-8')\n",
    "#no need to place utf-8, as the default decode of python is utf-8\n",
    "\n",
    "#verification\n",
    "\n",
    "print(f\"The data type of pg10 is {type(pg10)}.\")"
   ]
  },
  {
   "cell_type": "code",
   "execution_count": null,
   "id": "a32b8da4-1ed6-46fa-a933-9d999b817b44",
   "metadata": {},
   "outputs": [],
   "source": [
    "'''\n",
    "\n",
    "2. Using the string stored at 'pg10' to answer the following questions:\n",
    "\n",
    "'''"
   ]
  },
  {
   "cell_type": "code",
   "execution_count": 2,
   "id": "f18fd49c-ec40-4bf4-b4fb-320a365ba2e3",
   "metadata": {},
   "outputs": [
    {
     "name": "stdout",
     "output_type": "stream",
     "text": [
      "The string has 99968 lines.\n"
     ]
    }
   ],
   "source": [
    "'''\n",
    "\n",
    "1.) How many lines does the string have?\n",
    "\n",
    "'''\n",
    "lines_in_pg10 = pg10.splitlines()\n",
    "no_of_lines = len(lines_in_pg10)\n",
    "print(f\"The string has {no_of_lines} lines.\")\n",
    "\n",
    "#alternative solutions: no_of_lines = len(pg10.splitlines())"
   ]
  },
  {
   "cell_type": "code",
   "execution_count": 3,
   "id": "1a487f11-c6cb-4d2c-ad45-9db5edda15b2",
   "metadata": {},
   "outputs": [
    {
     "name": "stdout",
     "output_type": "stream",
     "text": [
      "The string has 795227 words.\n"
     ]
    }
   ],
   "source": [
    "'''\n",
    "\n",
    "2.) How many words does the string have?\n",
    "\n",
    "CONDITIONS OF WHAT CONSISTS A WORD:\n",
    "\"A word is any set of directly-adjacent alphabet characters.\"\n",
    "\n",
    "'''\n",
    "\n",
    "#initiating empty lists and strings for the words\n",
    "total_words = []\n",
    "current_word = ''\n",
    "\n",
    "#alphabet\n",
    "upper_case_letters = \"ABCDEFGHIJKLMNOPQRSTUVWXYZ\"\n",
    "lower_case_letters = \"abcdefghijklmnopqrstuvwxyz\"\n",
    "\n",
    "#for loop to get the words\n",
    "for i in pg10:\n",
    "    if i in upper_case_letters or i in lower_case_letters:\n",
    "        current_word += i\n",
    "\n",
    "    else:\n",
    "        if current_word: \n",
    "            total_words.append(current_word) #adding the completed word\n",
    "            current_word = '' #initiating empty variable for another word\n",
    "\n",
    "#adding the last word\n",
    "if current_word:\n",
    "    total_words.append(current_word)\n",
    "\n",
    "print(f\"The string has {len(total_words)} words.\")\n",
    "\n",
    "#alternative solutions: instead of making that string of alphabet, i can use .isalpha()\n",
    "#alternatives, could make current_word a list, and then just use ''.join(current_word)\n"
   ]
  },
  {
   "cell_type": "code",
   "execution_count": 4,
   "id": "249222c2-9898-42a5-b6b0-bc47e58f6a73",
   "metadata": {},
   "outputs": [
    {
     "name": "stdout",
     "output_type": "stream",
     "text": [
      "The word \"apostle\" appears 47 times.\n"
     ]
    }
   ],
   "source": [
    "'''\n",
    "\n",
    "3.) How many times does the word \"apostle\", ignoring capitalization,\n",
    "appear in the string?\n",
    "\n",
    "'''\n",
    "#initiating a 0 count for apostle\n",
    "apostle_count = 0\n",
    "\n",
    "#for loop to iterate through the words in the list, use .lower()\n",
    "for i in total_words:\n",
    "    if i.lower()==\"apostle\":\n",
    "        apostle_count += 1\n",
    "\n",
    "    else:\n",
    "        apostle_count += 0\n",
    "\n",
    "print(f\"The word \\\"apostle\\\" appears {apostle_count} times.\")"
   ]
  },
  {
   "cell_type": "code",
   "execution_count": 5,
   "id": "24800207-9412-40ad-bfff-210def1fd4a1",
   "metadata": {},
   "outputs": [
    {
     "name": "stdout",
     "output_type": "stream",
     "text": [
      "The most common word is \"the\".\n",
      "It occured 64309 times.\n"
     ]
    }
   ],
   "source": [
    "'''\n",
    "\n",
    "4.) What is the most common word, ignoring capitalization, in the string?\n",
    "(where a word is any set of directly-adjacent alphabet characters)\n",
    "\n",
    "'''\n",
    "\n",
    "#initiating dictionaries and counts\n",
    "word_counts = {} \n",
    "most_common_word = \"\"\n",
    "\n",
    "#making the for loop\n",
    "for i in total_words:\n",
    "    \n",
    "    i_lc = i.lower() #make it all lowercase to remove the case sensitivity\n",
    "    \n",
    "    if i_lc in word_counts:\n",
    "        word_counts[i_lc]+=1\n",
    "\n",
    "    else:\n",
    "        word_counts[i_lc]=1\n",
    "\n",
    "word_occurences = max(word_counts.values())\n",
    "most_common_word = [cw for cw in word_counts if word_counts[cw]==word_occurences]\n",
    "\n",
    "if len(most_common_word) == 1:\n",
    "    most_common_word = ''.join(most_common_word)\n",
    "\n",
    "else:\n",
    "    most_common_word = ', '.join(most_common_word)\n",
    "\n",
    "print(f\"The most common word is \\\"{str(most_common_word)}\\\".\")\n",
    "print(f\"It occured {word_occurences} times.\")\n",
    "        \n",
    "\n"
   ]
  }
 ],
 "metadata": {
  "kernelspec": {
   "display_name": "Python 3 (ipykernel)",
   "language": "python",
   "name": "python3"
  },
  "language_info": {
   "codemirror_mode": {
    "name": "ipython",
    "version": 3
   },
   "file_extension": ".py",
   "mimetype": "text/x-python",
   "name": "python",
   "nbconvert_exporter": "python",
   "pygments_lexer": "ipython3",
   "version": "3.12.3"
  }
 },
 "nbformat": 4,
 "nbformat_minor": 5
}
