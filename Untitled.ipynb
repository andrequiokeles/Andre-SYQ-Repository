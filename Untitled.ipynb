{
 "cells": [
  {
   "cell_type": "code",
   "execution_count": 3,
   "id": "62af22bf-2620-4afd-a3fc-d96c5ec579f1",
   "metadata": {},
   "outputs": [],
   "source": [
    "def eta(first_stop,second_stop,route_map):\n",
    "    travel_time = 0\n",
    "    current_stop = first_stop\n",
    "    while current_stop!=second_stop:\n",
    "        for (stop1, stop2) in route_map.keys():\n",
    "            if stop1 == current_stop:\n",
    "                travel_time+=route_map[stop1, stop2][\"travel_time_mins\"]\n",
    "                current_stop = stop2\n",
    "                break\n",
    "\n",
    "    return travel_time"
   ]
  },
  {
   "cell_type": "code",
   "execution_count": null,
   "id": "55cb64b6-3ba5-4bae-98ea-b7d97e035645",
   "metadata": {},
   "outputs": [],
   "source": [
    "def eta(first_stop, second_stop, route_map):\n",
    "    return sum(route_map[stop1, stop2][\"travel_time_mins\"] for stop1, stop2 in route_map.keys() if stop1 == first_stop or (stop1, stop2) == (current_stop := first_stop) or (stop1 == (current_stop := stop2)))\n"
   ]
  }
 ],
 "metadata": {
  "kernelspec": {
   "display_name": "Python 3 (ipykernel)",
   "language": "python",
   "name": "python3"
  },
  "language_info": {
   "codemirror_mode": {
    "name": "ipython",
    "version": 3
   },
   "file_extension": ".py",
   "mimetype": "text/x-python",
   "name": "python",
   "nbconvert_exporter": "python",
   "pygments_lexer": "ipython3",
   "version": "3.12.3"
  }
 },
 "nbformat": 4,
 "nbformat_minor": 5
}
