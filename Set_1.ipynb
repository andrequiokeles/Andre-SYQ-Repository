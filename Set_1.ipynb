{
 "cells": [
  {
   "cell_type": "code",
   "execution_count": 30,
   "id": "0a9cc930-8757-4148-8469-b1644fc4fb61",
   "metadata": {},
   "outputs": [
    {
     "name": "stdout",
     "output_type": "stream",
     "text": [
      "29916\n"
     ]
    }
   ],
   "source": [
    "def savings(gross_pay, tax_rate, expenses):\n",
    "    '''Savings.\n",
    "\n",
    "    This function calculates the money remaining\n",
    "        for an employee after taxes and expenses.\n",
    "\n",
    "    To get the take-home pay of an employee, we will\n",
    "        follow the following process:\n",
    "        1. Apply the tax rate to the gross pay of the employee; round down\n",
    "        2. Subtract the expenses from the after-tax pay of the employee\n",
    "\n",
    "    Parameters\n",
    "    ----------\n",
    "    gross_pay: int\n",
    "        the gross pay of an employee for a certain time period, expressed in centavos\n",
    "    tax_rate: float\n",
    "        the tax rate for a certain time period, expressed as a number between 0 and 1 (e.g., 0.12)\n",
    "    expenses: int\n",
    "        the expenses of an employee for a certain time period, expressed in centavos\n",
    "\n",
    "    Returns\n",
    "    -------\n",
    "    int\n",
    "        the number of centavos remaining from an employee's pay after taxes and expenses\n",
    "    '''\n",
    "    # Replace `pass` with your code.\n",
    "    # Stay within the function. Only use the parameters as input. The function should return your answer.\n",
    "    after_tax_pay = gross_pay-int(gross_pay*tax_rate)\n",
    "    savings = after_tax_pay - expenses\n",
    "\n",
    "    return savings\n",
    "    \n",
    "print(savings(89167, 0.15, 45876))"
   ]
  },
  {
   "cell_type": "code",
   "execution_count": 1,
   "id": "53ed2a32-0d69-4412-bf3e-f269dfa33cfe",
   "metadata": {},
   "outputs": [
    {
     "name": "stdout",
     "output_type": "stream",
     "text": [
      "60kg\n"
     ]
    }
   ],
   "source": [
    "def material_waste(total_material, material_units, num_jobs, job_consumption):\n",
    "    '''Material Waste.\n",
    "\n",
    "    This function calculates how much material input will be wasted\n",
    "        after running a certain number of jobs that consume\n",
    "        a set amount of material.\n",
    "\n",
    "    To get the waste of a set of jobs:\n",
    "        1. Multiply the number of jobs by the material consumption per job.\n",
    "        2. Subtract the total material consumed from the total material available.\n",
    "\n",
    "    The users of this function also want you to format the output as a string, annotated with the\n",
    "        units in which the material is expressed. Do not add a space between the number and the unit.\n",
    "\n",
    "    Parameters\n",
    "    ----------\n",
    "    total_material: int\n",
    "        the total material available\n",
    "    material_units: str\n",
    "        the units used to express a quantity of the material (e.g., \"kg\", \"L\", etc.)\n",
    "    num_jobs: int\n",
    "        the number of jobs to run\n",
    "    job_consumption: int\n",
    "        the amount of material consumed per job\n",
    "\n",
    "    Returns\n",
    "    -------\n",
    "    str\n",
    "        the amount of remaining material expressed with its unit (e.g., \"10kg\").\n",
    "    '''\n",
    "    # Replace `pass` with your code.\n",
    "    # Stay within the function. Only use the parameters as input. The function should return your answer.\n",
    "    material_consumed = num_jobs*job_consumption\n",
    "    material_waste = total_material-material_consumed\n",
    "    material_waste = f\"{material_waste}{material_units}\"\n",
    "    return material_waste\n",
    "\n",
    "print(material_waste(200, \"kg\", 7, 20))\n"
   ]
  },
  {
   "cell_type": "code",
   "execution_count": 35,
   "id": "e5354849-59d1-45c2-8792-4283c034dd19",
   "metadata": {},
   "outputs": [
    {
     "name": "stdout",
     "output_type": "stream",
     "text": [
      "17200\n"
     ]
    }
   ],
   "source": [
    "def interest(principal, rate, periods):\n",
    "    '''Interest.\n",
    "\n",
    "    This function calculates the final value of an investment after\n",
    "        gaining simple interest over a number of periods.\n",
    "\n",
    "    To calculate simple interest, simply multiply the principal to the quantity (rate * time).\n",
    "        Add this amount to the principal to get the final value.\n",
    "\n",
    "    Round down the final amount.\n",
    "\n",
    "    Parameters\n",
    "    ----------\n",
    "    principal: int\n",
    "        the principal (i.e., starting) amount invested, expressed in centavos\n",
    "    rate: float\n",
    "        the interest rate per period, expressed as a decimal representation of a percentage (e.g., 3% is 0.03)\n",
    "    periods: int\n",
    "        the number of periods invested\n",
    "\n",
    "    Returns\n",
    "    -------\n",
    "    int\n",
    "        the final value of the investment\n",
    "    '''\n",
    "    # Replace `pass` with your code.\n",
    "    # Stay within the function. Only use the parameters as input. The function should return your answer.\n",
    "    interest = principal*(rate*periods)\n",
    "    simple_interest = int(principal+interest)\n",
    "    return simple_interest\n",
    "\n",
    "print(interest(10000, 0.03, 24))"
   ]
  },
  {
   "cell_type": "code",
   "execution_count": 49,
   "id": "f8f54f54-c00c-4e20-afcd-625ddf13b155",
   "metadata": {},
   "outputs": [
    {
     "name": "stdout",
     "output_type": "stream",
     "text": [
      "30.40958389442731\n"
     ]
    }
   ],
   "source": [
    "def body_mass_index(weight, height):\n",
    "    '''Body Mass Index.\n",
    "    5 points.\n",
    "\n",
    "    This function calculates the body mass index (BMI) of a person\n",
    "        given their weight and height.\n",
    "\n",
    "    The formula for BMI is: kg / (m ^ 2)\n",
    "        (i.e., kilograms over meters squared)\n",
    "\n",
    "    Unfortunately, the users of this function use the imperial system.\n",
    "        You will need to first convert their arguments to the metric system.\n",
    "\n",
    "    Parameters\n",
    "    ----------\n",
    "    weight: float\n",
    "        the weight of the person, in pounds\n",
    "    height: list\n",
    "        the height of the person, expressed as a list of two integers.\n",
    "        the first integer is the foot component of their height.\n",
    "        the second integer is the inches component of their height.\n",
    "        for example, 5'10\" would be passed as [5, 10].\n",
    "\n",
    "    We have not yet discussed lists, but use the skills you developed\n",
    "        in the command line exercise. How would you learn how to work with\n",
    "        lists?\n",
    "\n",
    "    Returns\n",
    "    -------\n",
    "    float\n",
    "        the BMI of the person.\n",
    "    '''\n",
    "    # Replace `pass` with your code.\n",
    "    # Stay within the function. Only use the parameters as input. The function should return your answer.\n",
    "    weight_in_kilograms = weight*0.45359237\n",
    "    height_in_inches = 12*height[0]+height[1]\n",
    "    height_in_meters = 0.0254*height_in_inches\n",
    "    BMI = weight_in_kilograms/((height_in_meters)**2)\n",
    "    return BMI\n",
    "\n",
    "print(body_mass_index(200,[5,8]))"
   ]
  },
  {
   "cell_type": "code",
   "execution_count": 2,
   "id": "d5d6d3dc-b3ca-43a1-b5d2-9b14ad08488a",
   "metadata": {},
   "outputs": [
    {
     "name": "stdout",
     "output_type": "stream",
     "text": [
      "GAYMAG____\n"
     ]
    }
   ],
   "source": [
    "message = \"GAYMAG\"\n",
    "shift = \"HAPPY\"\n",
    "while len(message)%len(shift)!=0:\n",
    "    message+=\"_\"\n",
    "\n",
    "\n",
    "print(message)"
   ]
  },
  {
   "cell_type": "code",
   "execution_count": 3,
   "id": "99337afb-b18d-45cd-b5ae-44228b219844",
   "metadata": {},
   "outputs": [
    {
     "name": "stdout",
     "output_type": "stream",
     "text": [
      "L\n"
     ]
    }
   ],
   "source": [
    "message = \"Lebron James\"\n",
    "\n",
    "if \" \" in message:\n",
    "    print(\"L\")"
   ]
  },
  {
   "cell_type": "code",
   "execution_count": 25,
   "id": "24f0f1db-e522-4e43-9ea1-6a09d6887ace",
   "metadata": {},
   "outputs": [
    {
     "name": "stdout",
     "output_type": "stream",
     "text": [
      "I_IMFGNTRNAOAOE\n",
      "IRIANMOGFANEOT__\n",
      "AOTSRIOALRH_EMRNGIMA_PTT\n"
     ]
    }
   ],
   "source": [
    "def scytale_cipher(message, shift):\n",
    "    '''Scytale Cipher.\n",
    "\n",
    "    Encrypts a message by simulating a scytale cipher.\n",
    "\n",
    "    A scytale is a cylinder around which you can wrap a long strip of\n",
    "        parchment that contained a string of apparent gibberish. The parchment,\n",
    "        when read using the scytale, would reveal a message due to every nth\n",
    "        letter now appearing next to each other, revealing a proper message.\n",
    "    This encryption method is obsolete and should never be used to encrypt\n",
    "        data in production settings.\n",
    "\n",
    "    You may read more about the method here:\n",
    "        https://en.wikipedia.org/wiki/Scytale\n",
    "\n",
    "    You may follow this algorithm to implement a scytale-style cipher:\n",
    "    1. Take a message to be encoded and a \"shift\" number.\n",
    "        For this example, we will use \"INFORMATION_AGE\" as\n",
    "        the message and 3 as the shift.\n",
    "    2. Check if the length of the message is a multiple of\n",
    "        the shift. If it is not, add additional underscores\n",
    "        to the end of the message until it is.\n",
    "        In this example, \"INFORMATION_AGE\" is already a multiple of 3,\n",
    "        so we will leave it alone.\n",
    "    3. This is the tricky part. Construct the encoded message.\n",
    "        For each index i in the encoded message, use the character at the index\n",
    "        (i // shift) + (len(message) // shift) * (i % shift) of the raw message.\n",
    "        If this number doesn't make sense, you can play around with the cipher at\n",
    "         https://dencode.com/en/cipher/scytale to try to understand it.\n",
    "    4. Return the encoded message. In this case,\n",
    "        the output should be \"IMNNA_FTAOIGROE\".\n",
    "\n",
    "    Example:\n",
    "    scytale_cipher(\"INFORMATION_AGE\", 3) -> \"IMNNA_FTAOIGROE\"\n",
    "    scytale_cipher(\"INFORMATION_AGE\", 4) -> \"IRIANMOGFANEOT__\"\n",
    "    scytale_cipher(\"ALGORITHMS_ARE_IMPORTANT\", 8) -> \"AOTSRIOALRH_EMRNGIMA_PTT\"\n",
    "\n",
    "    Parameters\n",
    "    ----------\n",
    "    message: str\n",
    "        a string of uppercase English letters and underscores (underscores represent spaces)\n",
    "    shift: int\n",
    "        a positive int that does not exceed the length of message\n",
    "\n",
    "    Returns\n",
    "    -------\n",
    "    str\n",
    "        the encoded message\n",
    "    '''\n",
    "    # Replace `pass` with your code.\n",
    "    # Stay within the function. Only use the parameters as input. The function should return your answer.\n",
    "    message = message.upper()\n",
    "    shift = abs(int(shift))\n",
    "    scytale_message = \"\"\n",
    "    Alphabet_List = [\"A\",\"B\",\"C\",\"D\",\"E\",\"F\",\"G\",\"H\",\"I\",\"J\",\"K\",\"L\",\"M\",\"N\",\"O\",\"P\",\"Q\",\"R\",\"S\",\"T\",\"U\",\"V\",\"W\",\"X\",\"Y\",\"Z\"]\n",
    "    \n",
    "    if shift>len(message) or \" \" in message:\n",
    "        return \"There is an error\"\n",
    "\n",
    "    else: \n",
    "        while len(message)%shift!=0:\n",
    "            message+=\"_\"\n",
    "        message = message\n",
    "\n",
    "        message_index = 0\n",
    "        for letter in message:\n",
    "                new_value = (message_index// shift) + (len(message) // shift) * (message_index% shift)\n",
    "                new_letter = message[new_value]\n",
    "                scytale_message+=new_letter\n",
    "                message_index+=1\n",
    "    \n",
    "        return scytale_message\n",
    "\n",
    "\n",
    "print(scytale_cipher(\"IMNNA_FTAOIGROE\", 3))\n",
    "print(scytale_cipher(\"INFORMATION_AGE\", 4))\n",
    "print(scytale_cipher(\"ALGORITHMS_ARE_IMPORTANT\", 8))\n",
    "        \n",
    "    \n",
    "\n",
    "    \n",
    "    \n",
    "\n",
    "    "
   ]
  },
  {
   "cell_type": "code",
   "execution_count": 35,
   "id": "c95f7d9c-ee84-4c03-8cc8-d903bab564d5",
   "metadata": {},
   "outputs": [
    {
     "ename": "TypeError",
     "evalue": "'int' object is not callable",
     "output_type": "error",
     "traceback": [
      "\u001b[1;31m---------------------------------------------------------------------------\u001b[0m",
      "\u001b[1;31mTypeError\u001b[0m                                 Traceback (most recent call last)",
      "Cell \u001b[1;32mIn[35], line 47\u001b[0m\n\u001b[0;32m     42\u001b[0m             message_index\u001b[38;5;241m+\u001b[39m\u001b[38;5;241m=\u001b[39m\u001b[38;5;241m1\u001b[39m\n\u001b[0;32m     44\u001b[0m         \u001b[38;5;28;01mreturn\u001b[39;00m scytale_message\n\u001b[1;32m---> 47\u001b[0m \u001b[38;5;28mprint\u001b[39m(\u001b[43mscytale_decipher\u001b[49m\u001b[43m(\u001b[49m\u001b[38;5;124;43m\"\u001b[39;49m\u001b[38;5;124;43mIMNNA_FTAOIGROE\u001b[39;49m\u001b[38;5;124;43m\"\u001b[39;49m\u001b[43m,\u001b[49m\u001b[43m \u001b[49m\u001b[38;5;241;43m3\u001b[39;49m\u001b[43m)\u001b[49m)\n",
      "Cell \u001b[1;32mIn[35], line 39\u001b[0m, in \u001b[0;36mscytale_decipher\u001b[1;34m(message, shift)\u001b[0m\n\u001b[0;32m     37\u001b[0m \u001b[38;5;28;01mfor\u001b[39;00m letter \u001b[38;5;129;01min\u001b[39;00m message:\n\u001b[0;32m     38\u001b[0m     new_value \u001b[38;5;241m=\u001b[39m (message_index\u001b[38;5;241m*\u001b[39mshift)\u001b[38;5;241m-\u001b[39m(\u001b[38;5;28mlen\u001b[39m(message))\n\u001b[1;32m---> 39\u001b[0m     new_value \u001b[38;5;241m=\u001b[39m (message_index\u001b[38;5;241m*\u001b[39mshift)\u001b[38;5;241m-\u001b[39m\u001b[43m(\u001b[49m\u001b[38;5;28;43mlen\u001b[39;49m\u001b[43m(\u001b[49m\u001b[43mmessage\u001b[49m\u001b[43m)\u001b[49m\u001b[43m)\u001b[49m\u001b[43m(\u001b[49m\u001b[43mnew_value\u001b[49m\u001b[38;5;241;43m%\u001b[39;49m\u001b[43mshift\u001b[49m\u001b[43m)\u001b[49m\n\u001b[0;32m     40\u001b[0m     new_letter \u001b[38;5;241m=\u001b[39m message[math\u001b[38;5;241m.\u001b[39mfloor(new_value)]\n\u001b[0;32m     41\u001b[0m     scytale_message\u001b[38;5;241m+\u001b[39m\u001b[38;5;241m=\u001b[39mnew_letter\n",
      "\u001b[1;31mTypeError\u001b[0m: 'int' object is not callable"
     ]
    }
   ],
   "source": [
    "def scytale_decipher(message, shift):\n",
    "    '''Scytale De-cipher.\n",
    "\n",
    "    Decrypts a message that was originally encrypted with the `scytale_cipher` function above.\n",
    "\n",
    "    Example:\n",
    "    scytale_decipher(\"IMNNA_FTAOIGROE\", 3) -> \"INFORMATION_AGE\"\n",
    "    scytale_decipher(\"AOTSRIOALRH_EMRNGIMA_PTT\", 8) -> \"ALGORITHMS_ARE_IMPORTANT\"\n",
    "    scytale_decipher(\"IRIANMOGFANEOT__\", 4) -> \"INFORMATION_AGE_\"\n",
    "\n",
    "    There is no further brief for this number.\n",
    "\n",
    "    Parameters\n",
    "    ----------\n",
    "    message: str\n",
    "        a string of uppercase English letters and underscores (underscores represent spaces)\n",
    "    shift: int\n",
    "        a positive int that does not exceed the length of message\n",
    "\n",
    "    Returns\n",
    "    -------\n",
    "    str\n",
    "        the decoded message\n",
    "    '''\n",
    "    # Replace `pass` with your code.\n",
    "    # Stay within the function. Only use the parameters as input. The function should return your answer.\n",
    "    import math\n",
    "    message = message.upper()\n",
    "    shift = abs(int(shift))\n",
    "    scytale_message = \"\"\n",
    "    \n",
    "    if shift>len(message) or \" \" in message:\n",
    "        return \"There is an error\"\n",
    "\n",
    "    else: \n",
    "        message_index = 0\n",
    "        for letter in message:\n",
    "            new_value = (message_index*shift)-(len(message))\n",
    "            new_letter = message[math.floor(new_value)]\n",
    "            scytale_message+=new_letter\n",
    "            message_index+=1\n",
    "    \n",
    "        return scytale_message\n",
    "\n",
    "\n",
    "print(scytale_cipher(\"IMNNA_FTAOIGROE\", 3))\n",
    "print(scytale_cipher(\"INFORMATION_AGE\", 4))\n",
    "print(scytale_cipher(\"ALGORITHMS_ARE_IMPORTANT\", 8))\n"
   ]
  },
  {
   "cell_type": "code",
   "execution_count": 46,
   "id": "81faafd5-088d-46a3-8567-34468197fd84",
   "metadata": {},
   "outputs": [
    {
     "name": "stdout",
     "output_type": "stream",
     "text": [
      "INFORMATION_AGE\n"
     ]
    }
   ],
   "source": [
    "def scytale_decipher(message, shift):\n",
    "    '''Scytale De-cipher.\n",
    "\n",
    "    Decrypts a message that was originally encrypted with the `scytale_cipher` function above.\n",
    "\n",
    "    Example:\n",
    "    scytale_decipher(\"IMNNA_FTAOIGROE\", 3) -> \"INFORMATION_AGE\"\n",
    "    scytale_decipher(\"AOTSRIOALRH_EMRNGIMA_PTT\", 8) -> \"ALGORITHMS_ARE_IMPORTANT\"\n",
    "    scytale_decipher(\"IRIANMOGFANEOT__\", 4) -> \"INFORMATION_AGE_\"\n",
    "\n",
    "    There is no further brief for this number.\n",
    "\n",
    "    Parameters\n",
    "    ----------\n",
    "    message: str\n",
    "        a string of uppercase English letters and underscores (underscores represent spaces)\n",
    "    shift: int\n",
    "        a positive int that does not exceed the length of message\n",
    "\n",
    "    Returns\n",
    "    -------\n",
    "    str\n",
    "        the decoded message\n",
    "    '''\n",
    "    # Replace `pass` with your code.\n",
    "    # Stay within the function. Only use the parameters as input. The function should return your answer.\n",
    "    message = message.upper()\n",
    "    shift = abs(int(shift))\n",
    "    scytale_message = ['']*len(message)\n",
    "    \n",
    "    message_index = 0\n",
    "    for letter in message:\n",
    "            new_value = (message_index // shift) + (len(message) // shift) * (message_index% shift)\n",
    "            scytale_message[new_value] = message[message_index]\n",
    "            message_index+=1\n",
    "\n",
    "    scytale_message = ''.join(scytale_message)\n",
    "    return scytale_message\n",
    "\n",
    "\n",
    "print(scytale_decipher(\"IMNNA_FTAOIGROE\", 3))\n"
   ]
  },
  {
   "cell_type": "code",
   "execution_count": 39,
   "id": "9509b4d4-cdb4-4bfb-b854-2af57be170db",
   "metadata": {},
   "outputs": [
    {
     "ename": "IndexError",
     "evalue": "list assignment index out of range",
     "output_type": "error",
     "traceback": [
      "\u001b[1;31m---------------------------------------------------------------------------\u001b[0m",
      "\u001b[1;31mIndexError\u001b[0m                                Traceback (most recent call last)",
      "Cell \u001b[1;32mIn[39], line 21\u001b[0m\n\u001b[0;32m     18\u001b[0m     \u001b[38;5;28;01mreturn\u001b[39;00m deciphered_message\n\u001b[0;32m     20\u001b[0m \u001b[38;5;66;03m# Test cases\u001b[39;00m\n\u001b[1;32m---> 21\u001b[0m \u001b[38;5;28mprint\u001b[39m(\u001b[43mscytale_decipher\u001b[49m\u001b[43m(\u001b[49m\u001b[38;5;124;43m\"\u001b[39;49m\u001b[38;5;124;43mIMNNA_FTAOIGROE\u001b[39;49m\u001b[38;5;124;43m\"\u001b[39;49m\u001b[43m,\u001b[49m\u001b[43m \u001b[49m\u001b[38;5;241;43m3\u001b[39;49m\u001b[43m)\u001b[49m)  \u001b[38;5;66;03m# Output: \"INFORMATION_AGE\"\u001b[39;00m\n\u001b[0;32m     22\u001b[0m \u001b[38;5;28mprint\u001b[39m(scytale_decipher(\u001b[38;5;124m\"\u001b[39m\u001b[38;5;124mAOTSRIOALRH_EMRNGIMA_PTT\u001b[39m\u001b[38;5;124m\"\u001b[39m, \u001b[38;5;241m8\u001b[39m))  \u001b[38;5;66;03m# Output: \"ALGORITHMS_ARE_IMPORTANT\"\u001b[39;00m\n\u001b[0;32m     23\u001b[0m \u001b[38;5;28mprint\u001b[39m(scytale_decipher(\u001b[38;5;124m\"\u001b[39m\u001b[38;5;124mIRIANMOGFANEOT__\u001b[39m\u001b[38;5;124m\"\u001b[39m, \u001b[38;5;241m4\u001b[39m))  \u001b[38;5;66;03m# Output: \"INFORMATION_AGE_\"\u001b[39;00m\n",
      "Cell \u001b[1;32mIn[39], line 13\u001b[0m, in \u001b[0;36mscytale_decipher\u001b[1;34m(message, shift)\u001b[0m\n\u001b[0;32m     10\u001b[0m     original_position \u001b[38;5;241m=\u001b[39m (i \u001b[38;5;241m/\u001b[39m\u001b[38;5;241m/\u001b[39m shift) \u001b[38;5;241m+\u001b[39m (\u001b[38;5;28mlen\u001b[39m(message) \u001b[38;5;241m/\u001b[39m\u001b[38;5;241m/\u001b[39m shift) \u001b[38;5;241m*\u001b[39m (i \u001b[38;5;241m%\u001b[39m shift)\n\u001b[0;32m     12\u001b[0m     \u001b[38;5;66;03m# Place the current character at its original position in the message\u001b[39;00m\n\u001b[1;32m---> 13\u001b[0m     \u001b[43mdeciphered_chars\u001b[49m\u001b[43m[\u001b[49m\u001b[43moriginal_position\u001b[49m\u001b[43m]\u001b[49m \u001b[38;5;241m=\u001b[39m message[i]\n\u001b[0;32m     15\u001b[0m \u001b[38;5;66;03m# Join the characters to form the deciphered message\u001b[39;00m\n\u001b[0;32m     16\u001b[0m deciphered_message \u001b[38;5;241m=\u001b[39m \u001b[38;5;124m'\u001b[39m\u001b[38;5;124m'\u001b[39m\u001b[38;5;241m.\u001b[39mjoin(deciphered_chars)\n",
      "\u001b[1;31mIndexError\u001b[0m: list assignment index out of range"
     ]
    }
   ],
   "source": [
    "def scytale_decipher(message, shift):\n",
    "    message = message.upper()  # Ensure the message is in uppercase\n",
    "    shift = abs(int(shift))  # Ensure shift is positive\n",
    "\n",
    "    # Initialize an empty list to store characters of the deciphered message\n",
    "    deciphered_chars = [''] * len(message)\n",
    "\n",
    "    for i in range(len(message)):\n",
    "        # Calculate the position of the current character in the original message\n",
    "        original_position = (i // shift) + (len(message) // shift) * (i % shift)\n",
    "        \n",
    "        # Place the current character at its original position in the message\n",
    "        deciphered_chars[original_position] = message[i]\n",
    "\n",
    "    # Join the characters to form the deciphered message\n",
    "    deciphered_message = ''.join(deciphered_chars)\n",
    "\n",
    "    return deciphered_message\n",
    "\n",
    "# Test cases\n",
    "print(scytale_decipher(\"IMNNA_FTAOIGROE\", 3))  # Output: \"INFORMATION_AGE\"\n",
    "print(scytale_decipher(\"AOTSRIOALRH_EMRNGIMA_PTT\", 8))  # Output: \"ALGORITHMS_ARE_IMPORTANT\"\n",
    "print(scytale_decipher(\"IRIANMOGFANEOT__\", 4))  # Output: \"INFORMATION_AGE_\"\n"
   ]
  },
  {
   "cell_type": "code",
   "execution_count": null,
   "id": "3816e904-2fce-4073-b14b-b67edafd39fe",
   "metadata": {},
   "outputs": [],
   "source": []
  }
 ],
 "metadata": {
  "kernelspec": {
   "display_name": "Python 3 (ipykernel)",
   "language": "python",
   "name": "python3"
  },
  "language_info": {
   "codemirror_mode": {
    "name": "ipython",
    "version": 3
   },
   "file_extension": ".py",
   "mimetype": "text/x-python",
   "name": "python",
   "nbconvert_exporter": "python",
   "pygments_lexer": "ipython3",
   "version": "3.12.3"
  }
 },
 "nbformat": 4,
 "nbformat_minor": 5
}
